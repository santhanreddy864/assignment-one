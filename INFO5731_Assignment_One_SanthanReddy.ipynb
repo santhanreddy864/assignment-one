{
  "nbformat": 4,
  "nbformat_minor": 0,
  "metadata": {
    "colab": {
      "name": "INFO5731_Assignment_One_Santhan_Reddy (1) (1).ipynb",
      "provenance": [],
      "collapsed_sections": []
    },
    "kernelspec": {
      "display_name": "Python 3",
      "language": "python",
      "name": "python3"
    },
    "language_info": {
      "codemirror_mode": {
        "name": "ipython",
        "version": 3
      },
      "file_extension": ".py",
      "mimetype": "text/x-python",
      "name": "python",
      "nbconvert_exporter": "python",
      "pygments_lexer": "ipython3",
      "version": "3.7.4"
    }
  },
  "cells": [
    {
      "cell_type": "markdown",
      "metadata": {
        "id": "Ryk8D1Q4Wsrp"
      },
      "source": [
        "# **INFO5731 Assignment One**"
      ]
    },
    {
      "cell_type": "markdown",
      "metadata": {
        "id": "90_NR8c5XGWc"
      },
      "source": [
        "# Question 1\n",
        "\n",
        "(20 points). Write a Python program to generate 12 random numbers between 1 and 100. Sort the list of numbers in ascending order and print it out. Sort the list of numbers in descending order and print it out. Calculate the average for the group and print it out."
      ]
    },
    {
      "cell_type": "code",
      "metadata": {
        "colab": {
          "base_uri": "https://localhost:8080/"
        },
        "id": "5QX6bJjGWXY9",
        "outputId": "3b73f1aa-a974-46ce-ed9b-73225c5e02a1"
      },
      "source": [
        "# Your code here\n",
        "\n",
        "import random\n",
        "import numpy as np\n",
        "\n",
        "randomlist = [random.randint(1,100) for x in range(0,12) ]\n",
        "# ascending\n",
        "asc = sorted(randomlist)\n",
        "print(\"Ascending Order\",asc)\n",
        "# descending\n",
        "desc = sorted(randomlist)[::-1]\n",
        "print(\"Descending Order\",desc)\n",
        "# average\n",
        "avg = np.mean(asc)\n",
        "print(\"Average\",avg)"
      ],
      "execution_count": null,
      "outputs": [
        {
          "output_type": "stream",
          "text": [
            "Ascending Order [8, 13, 33, 33, 50, 50, 51, 52, 71, 76, 87, 90]\n",
            "Descending Order [90, 87, 76, 71, 52, 51, 50, 50, 33, 33, 13, 8]\n",
            "Average 51.166666666666664\n"
          ],
          "name": "stdout"
        }
      ]
    },
    {
      "cell_type": "markdown",
      "metadata": {
        "id": "1F_PZdH9Sh49"
      },
      "source": [
        "# Question 2\n",
        "(25 points). Write a program that will do the following string formatting tasks:\n",
        "\n",
        "(1) Ask the user to enter two sentences.\n",
        "\n",
        "(2) Make each sentence into a list. Each element in the list should correspond to a word in the sentence. For example, if the sentence is \"Alas! Am I alive? This is my first python program\", the program should print out ['Alas, '!', 'Am', 'I', 'alive, '?', 'This', 'is', 'my', 'first', 'python', 'program'].\n",
        "\n",
        "(3) Compare the two sentences. Print out a list of words that occur in both sentences.\n",
        "\n",
        "(4) Remove any punctuation from the sentence and print it back out. It should remove at least the following characters, but it can remove more: period(“.”), comma (“,”), semicolon (“;”), and colon (“:”)\n",
        "\n",
        "(5) Count the number of vowels in the sentences. Print out each vowel and the number of times it appears in the sentences, such as: a:2, e:1, i:0, etc"
      ]
    },
    {
      "cell_type": "code",
      "metadata": {
        "colab": {
          "base_uri": "https://localhost:8080/"
        },
        "id": "Y0oOSlsOS0cq",
        "outputId": "59574042-67a6-4aeb-a1e9-07cdb91bb892"
      },
      "source": [
        "# Your code here\n",
        "import re\n",
        "import string\n",
        "\n",
        "l1=[]\n",
        "l2=[]\n",
        "p =input(\"Enter your sentence: \")\n",
        "q =input(\"Enter your sentence: \")\n",
        "\n",
        "#p = 'Alas! Am I alive? This is my first python program'\n",
        "x=re.findall(r\"[\\w']+|[.,!?;]\", p)\n",
        "y=re.findall(r\"[\\w']+|[.,!?;]\", q)\n",
        "\n",
        "list3 = set(x)&set(y)\n",
        "\n",
        "print(list3)\n",
        "\n",
        "list4 = sorted(list3, key = lambda k : x.index(k))\n",
        "\n",
        "list5 = [''.join(c for c in s if c not in string.punctuation) for s in list4]\n",
        "\n",
        "list6 = [s for s in list5 if s]\n",
        "\n",
        "print(list6)\n",
        "\n",
        "vowel = ['a','e','i','o','u']\n",
        "\n",
        "d = {}\n",
        "\n",
        "for k in vowel:\n",
        "    d[k] = 0\n",
        "\n",
        "counter = 0\n",
        "\n",
        "for x in list6:\n",
        "    for k in x:\n",
        "        if k.lower() == 'a':\n",
        "            d['a'] += 1\n",
        "        elif k.lower() == 'e':\n",
        "            d['e'] += 1\n",
        "        elif k.lower() == 'i':\n",
        "            d['i'] += 1\n",
        "        elif k.lower() == 'o':\n",
        "            d['o'] += 1\n",
        "        elif k.lower() == 'u':\n",
        "            d['u'] += 1\n",
        "        else:\n",
        "            counter += 1\n",
        "\n",
        "print(d)"
      ],
      "execution_count": null,
      "outputs": [
        {
          "output_type": "stream",
          "text": [
            "Enter your sentence: Alas! Am I alive? This is my first python program\n",
            "Enter your sentence: Alas! Am I alive?\n",
            "{'Alas', 'I', 'alive', '!', 'Am', '?'}\n",
            "['Alas', 'Am', 'I', 'alive']\n",
            "{'a': 0, 'e': 0, 'i': 0, 'o': 0, 'u': 0}\n",
            "{'a': 4, 'e': 1, 'i': 2, 'o': 0, 'u': 0}\n"
          ],
          "name": "stdout"
        }
      ]
    },
    {
      "cell_type": "markdown",
      "metadata": {
        "id": "CmFoI4jDS9nx"
      },
      "source": [
        "hjsgfkah# Question 3 \n",
        "\n",
        "(15 points). The formula that describes the volume V of a sphere with radius r is the following:\n",
        "\n",
        "$ V=\\frac{4}{3}\\ast\\ \\pi\\ast\\ r^3 $\n",
        "\n",
        "Write a program to calculate the value of V when r is in the range of 1–10. Output the result in the following format:\n",
        "\n",
        "\tr\tV\n",
        "\t1\t…\n",
        "\t2\t…\n",
        "\t3\t…\n"
      ]
    },
    {
      "cell_type": "code",
      "metadata": {
        "id": "pEyqeioAT95b",
        "outputId": "52350f59-1187-45ef-c72a-6190a56886e3"
      },
      "source": [
        "# Your code here\n",
        "import math\n",
        "    \n",
        "volume = [((4.0/3.0)*math.pi*(r**3)) for r in range(1, 11)]\n",
        "\n",
        "print(\"r\"+\"  \"+\"V\")\n",
        "\n",
        "for x in range(len(volume)):\n",
        "    print(f\"{x+1}  {volume[x]}\")"
      ],
      "execution_count": null,
      "outputs": [
        {
          "output_type": "stream",
          "text": [
            "r  V\n",
            "1  4.1887902047863905\n",
            "2  33.510321638291124\n",
            "3  113.09733552923254\n",
            "4  268.082573106329\n",
            "5  523.5987755982989\n",
            "6  904.7786842338603\n",
            "7  1436.7550402417319\n",
            "8  2144.660584850632\n",
            "9  3053.6280592892786\n",
            "10  4188.790204786391\n"
          ],
          "name": "stdout"
        }
      ]
    },
    {
      "cell_type": "code",
      "metadata": {
        "id": "pMCr3l8tnu0j"
      },
      "source": [
        ""
      ],
      "execution_count": null,
      "outputs": []
    },
    {
      "cell_type": "markdown",
      "metadata": {
        "id": "z3tBE7E-Xn5X"
      },
      "source": [
        "# Question 4\n",
        "\n",
        "(40 points). In the field of Data Science, data is often formatted as a comma-delimited (CSV) file, where each line in a file corresponds to a field's value. Refer to Chapter 9 (p. 106) for more information on comma-delimited files. To answer this question, you will need to download the file [Assignment1_denton_housing.csv](https://github.com/unt-iialab/info5731_spring2021/blob/main/assignment/Assignment1_denton_housing.csv) included with this assignment. The file [Assignment1_denton_housing.csv](https://github.com/unt-iialab/info5731_spring2021/blob/main/assignment/Assignment1_denton_housing.csv) contains statistics about housing in the city of Denton from 2008 to 2014. Write a program to implement the following questions.\n",
        "\n",
        "(1) (10 pts) Calculate the difference in the number of Occupied Housing Units from year to year and print it. The difference must be calculated for the consecutive years such as 2008-2009, 2009-2010 etc. Finally, print the values in the ascending order.\n",
        "\n",
        "(2) (10 pts) For all the years, calculate the percentage of housing units which are vacant an occupied. Print the results in the following format:\n",
        "\n",
        "Year Vacant Housing Units Occupied Housing Units\n",
        "\n",
        "    2008  30%   70%                          \n",
        "\t2009 ----- -----\n",
        "\t2010 ----- -----\n",
        "    2011 ----- -----\n",
        "\t2012 ----- -----\n",
        "    2013 ----- -----\n",
        "\t2014 ----- -----\n",
        "  \n",
        "  \n",
        "\n",
        "(3) (10 pts) Calculate and print the valued and years in which the highest number of housing units were vacant and occupied. Print the results in the following format:  \n",
        "\n",
        "                              Year\tValue\n",
        "\tVacant Housing Units\t  -----   -----\n",
        "\tOccupied Housing Units\t-----   -----\n",
        "\n",
        "(4) (10 pts) Calculate the harmonic mean of the total housing units and print it out. You can find the information about harmonic mean here: https://ncalculators.com/statistics/harmonic-mean-calculator.htm"
      ]
    },
    {
      "cell_type": "code",
      "metadata": {
        "colab": {
          "base_uri": "https://localhost:8080/",
          "height": 454
        },
        "id": "lqGYuHBhcsRH",
        "outputId": "1a26e313-9788-4deb-caac-46bab90f0491"
      },
      "source": [
        "# Your code here\n",
        "import os\n",
        "print(os.getcwd())\n",
        "\n",
        "import pandas as pd\n",
        "df = pd.read_csv (r'C:\\Users\\USER\\Downloads\\Housing.csv')\n",
        "\n",
        "df2 = df[df['title_field']=='Occupied Housing Units']\n",
        "\n",
        "\n",
        "\n",
        "df3 = df2.sort_values(by = 'year', ascending =True)\n",
        "\n",
        "print(\"Part 1\")\n",
        "print(df3)\n",
        "\n",
        "df3[\"dA\"] = df3[\"value\"]- df3[\"value\"].shift(-1)\n",
        "df3.sort_values(by = 'dA', ascending = True)\n",
        "\n",
        "df3['Vacant Housing Units'] = list(df[df['title_field']=='Vacant Housing Units'].sort_values(by='year', ascending = True)['value'])\n",
        "df4 = df3.drop(['title_field','dA'], axis =1)\n",
        "df5 = df4.rename(columns = {'value': 'Occupied Housing Units'})\n",
        "df5['Total'] = df5['Occupied Housing Units']+df5['Vacant Housing Units']\n",
        "\n",
        "df5\n",
        "\n",
        "import scipy\n",
        "from scipy import stats\n",
        "\n",
        "harmonic_mean= scipy.stats.hmean(df5.loc[:,\"Total\"]) \n",
        "\n",
        "\n",
        "print(\"Part 4\")\n",
        "\n",
        "print(\"Harmonic Mean of Total Occupied Units:\",harmonic_mean)\n",
        "\n",
        "\n",
        "df6 = df5.copy()\n",
        "\n",
        "\n",
        "df6['Occupied Housing Units'] = (df6['Occupied Housing Units']/df6['Total']*100)\n",
        "\n",
        "df6['Vacant Housing Units'] = (df6['Vacant Housing Units']/df6['Total']*100)\n",
        "\n",
        "\n",
        "df9=df6.drop('Total', axis =1)\n",
        "\n",
        "print(\"Part 2\")\n",
        "print(df9)\n",
        "\n",
        "\n",
        "\n",
        "\n",
        "df6['Occupied Housing Units']\n",
        "\n",
        "\n",
        "Years = list(df5['year'])\n",
        "Occupied = list(df5['Occupied Housing Units'])\n",
        "Vacant = list(df5['Vacant Housing Units'])\n",
        "\n",
        "\n",
        "Occupied_list = [Years[Occupied.index(max(Occupied))],max(Occupied)]\n",
        "Vacant_list = [Years[Vacant.index(max(Vacant))],max(Vacant)]\n",
        "\n",
        "df7 = pd.DataFrame([Occupied_list,Vacant_list],columns=['Year','Value'])\n",
        "\n",
        "print(\"Part 3\")\n",
        "df7.rename(index={0:'Occupied Housing Units',1:'Vacant Housing Units'})\n",
        "\n"
      ],
      "execution_count": null,
      "outputs": [
        {
          "output_type": "stream",
          "text": [
            "C:\\Users\\USER\\Downloads\n",
            "Part 1\n",
            "    year             title_field  value\n",
            "20  2008  Occupied Housing Units  36711\n",
            "17  2009  Occupied Housing Units  35916\n",
            "14  2010  Occupied Housing Units  41007\n",
            "11  2011  Occupied Housing Units  40704\n",
            "8   2012  Occupied Housing Units  42108\n",
            "5   2013  Occupied Housing Units  43673\n",
            "2   2014  Occupied Housing Units  46295\n",
            "Part 4\n",
            "Harmonic Mean of Total Occupied Units: 44398.28543969185\n",
            "Part 2\n",
            "    year  Occupied Housing Units  Vacant Housing Units\n",
            "20  2008               89.117347             10.882653\n",
            "17  2009               90.928884              9.071116\n",
            "14  2010               91.857444              8.142556\n",
            "11  2011               90.620478              9.379522\n",
            "8   2012               93.322400              6.677600\n",
            "5   2013               91.198212              8.801788\n",
            "2   2014               94.269889              5.730111\n",
            "Part 3\n"
          ],
          "name": "stdout"
        },
        {
          "output_type": "execute_result",
          "data": {
            "text/html": [
              "<div>\n",
              "<style scoped>\n",
              "    .dataframe tbody tr th:only-of-type {\n",
              "        vertical-align: middle;\n",
              "    }\n",
              "\n",
              "    .dataframe tbody tr th {\n",
              "        vertical-align: top;\n",
              "    }\n",
              "\n",
              "    .dataframe thead th {\n",
              "        text-align: right;\n",
              "    }\n",
              "</style>\n",
              "<table border=\"1\" class=\"dataframe\">\n",
              "  <thead>\n",
              "    <tr style=\"text-align: right;\">\n",
              "      <th></th>\n",
              "      <th>Year</th>\n",
              "      <th>Value</th>\n",
              "    </tr>\n",
              "  </thead>\n",
              "  <tbody>\n",
              "    <tr>\n",
              "      <td>Occupied Housing Units</td>\n",
              "      <td>2014</td>\n",
              "      <td>46295</td>\n",
              "    </tr>\n",
              "    <tr>\n",
              "      <td>Vacant Housing Units</td>\n",
              "      <td>2008</td>\n",
              "      <td>4483</td>\n",
              "    </tr>\n",
              "  </tbody>\n",
              "</table>\n",
              "</div>"
            ],
            "text/plain": [
              "                        Year  Value\n",
              "Occupied Housing Units  2014  46295\n",
              "Vacant Housing Units    2008   4483"
            ]
          },
          "metadata": {
            "tags": []
          },
          "execution_count": 1
        }
      ]
    },
    {
      "cell_type": "code",
      "metadata": {
        "id": "JjfRoQcEgMpG"
      },
      "source": [
        ""
      ],
      "execution_count": null,
      "outputs": []
    }
  ]
}